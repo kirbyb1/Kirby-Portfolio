{
 "cells": [
  {
   "cell_type": "markdown",
   "metadata": {},
   "source": [
    "# DSC 630\n",
    "\n",
    "#### Week 3: Assignment 3.4\n",
    "\n",
    "Author: Bryce Kirby<br>\n",
    "\n",
    "\n",
    "In this assignment, you will be using data on the Los Angeles Dodgers Major League Baseball (MLB) team located here: dodgers.csv. Use this data to make a recommendation to management on how to improve attendance. Tell a story with your analysis and clearly explain the steps you take to arrive at your conclusion. This is an open-ended question, and there is no one right answer. You are welcome to do additional research and/or use domain knowledge to assist your analysis, but clearly state any assumptions you make.\n"
   ]
  },
  {
   "cell_type": "markdown",
   "metadata": {},
   "source": [
    "#### Load data"
   ]
  },
  {
   "cell_type": "code",
   "execution_count": 2,
   "metadata": {},
   "outputs": [],
   "source": [
    "# required to pre-load for piping\n",
    "library('magrittr')\n",
    "\n",
    "# set plot size\n",
    "options(plot.height=3, plot.width=3)\n",
    "\n",
    "# define data directory\n",
    "dirdata <- paste(getwd(),'data',sep='/')\n",
    "\n",
    "# load dodgers data file\n",
    "dodgers_raw <- read.csv(paste(dirdata,'dodgers.csv',sep='/'))"
   ]
  },
  {
   "cell_type": "markdown",
   "metadata": {},
   "source": [
    "#### Exploratory Data Analysis"
   ]
  },
  {
   "cell_type": "code",
   "execution_count": 2,
   "metadata": {
    "scrolled": true
   },
   "outputs": [
    {
     "data": {
      "text/html": [
       "<table>\n",
       "<caption>A data.frame: 6 × 12</caption>\n",
       "<thead>\n",
       "\t<tr><th scope=col>month</th><th scope=col>day</th><th scope=col>attend</th><th scope=col>day_of_week</th><th scope=col>opponent</th><th scope=col>temp</th><th scope=col>skies</th><th scope=col>day_night</th><th scope=col>cap</th><th scope=col>shirt</th><th scope=col>fireworks</th><th scope=col>bobblehead</th></tr>\n",
       "\t<tr><th scope=col>&lt;fct&gt;</th><th scope=col>&lt;int&gt;</th><th scope=col>&lt;int&gt;</th><th scope=col>&lt;fct&gt;</th><th scope=col>&lt;fct&gt;</th><th scope=col>&lt;int&gt;</th><th scope=col>&lt;fct&gt;</th><th scope=col>&lt;fct&gt;</th><th scope=col>&lt;fct&gt;</th><th scope=col>&lt;fct&gt;</th><th scope=col>&lt;fct&gt;</th><th scope=col>&lt;fct&gt;</th></tr>\n",
       "</thead>\n",
       "<tbody>\n",
       "\t<tr><td>APR</td><td>10</td><td>56000</td><td>Tuesday  </td><td>Pirates</td><td>67</td><td>Clear </td><td>Day  </td><td>NO</td><td>NO</td><td>NO </td><td>NO</td></tr>\n",
       "\t<tr><td>APR</td><td>11</td><td>29729</td><td>Wednesday</td><td>Pirates</td><td>58</td><td>Cloudy</td><td>Night</td><td>NO</td><td>NO</td><td>NO </td><td>NO</td></tr>\n",
       "\t<tr><td>APR</td><td>12</td><td>28328</td><td>Thursday </td><td>Pirates</td><td>57</td><td>Cloudy</td><td>Night</td><td>NO</td><td>NO</td><td>NO </td><td>NO</td></tr>\n",
       "\t<tr><td>APR</td><td>13</td><td>31601</td><td>Friday   </td><td>Padres </td><td>54</td><td>Cloudy</td><td>Night</td><td>NO</td><td>NO</td><td>YES</td><td>NO</td></tr>\n",
       "\t<tr><td>APR</td><td>14</td><td>46549</td><td>Saturday </td><td>Padres </td><td>57</td><td>Cloudy</td><td>Night</td><td>NO</td><td>NO</td><td>NO </td><td>NO</td></tr>\n",
       "\t<tr><td>APR</td><td>15</td><td>38359</td><td>Sunday   </td><td>Padres </td><td>65</td><td>Clear </td><td>Day  </td><td>NO</td><td>NO</td><td>NO </td><td>NO</td></tr>\n",
       "</tbody>\n",
       "</table>\n"
      ],
      "text/latex": [
       "A data.frame: 6 × 12\n",
       "\\begin{tabular}{r|llllllllllll}\n",
       " month & day & attend & day\\_of\\_week & opponent & temp & skies & day\\_night & cap & shirt & fireworks & bobblehead\\\\\n",
       " <fct> & <int> & <int> & <fct> & <fct> & <int> & <fct> & <fct> & <fct> & <fct> & <fct> & <fct>\\\\\n",
       "\\hline\n",
       "\t APR & 10 & 56000 & Tuesday   & Pirates & 67 & Clear  & Day   & NO & NO & NO  & NO\\\\\n",
       "\t APR & 11 & 29729 & Wednesday & Pirates & 58 & Cloudy & Night & NO & NO & NO  & NO\\\\\n",
       "\t APR & 12 & 28328 & Thursday  & Pirates & 57 & Cloudy & Night & NO & NO & NO  & NO\\\\\n",
       "\t APR & 13 & 31601 & Friday    & Padres  & 54 & Cloudy & Night & NO & NO & YES & NO\\\\\n",
       "\t APR & 14 & 46549 & Saturday  & Padres  & 57 & Cloudy & Night & NO & NO & NO  & NO\\\\\n",
       "\t APR & 15 & 38359 & Sunday    & Padres  & 65 & Clear  & Day   & NO & NO & NO  & NO\\\\\n",
       "\\end{tabular}\n"
      ],
      "text/markdown": [
       "\n",
       "A data.frame: 6 × 12\n",
       "\n",
       "| month &lt;fct&gt; | day &lt;int&gt; | attend &lt;int&gt; | day_of_week &lt;fct&gt; | opponent &lt;fct&gt; | temp &lt;int&gt; | skies &lt;fct&gt; | day_night &lt;fct&gt; | cap &lt;fct&gt; | shirt &lt;fct&gt; | fireworks &lt;fct&gt; | bobblehead &lt;fct&gt; |\n",
       "|---|---|---|---|---|---|---|---|---|---|---|---|\n",
       "| APR | 10 | 56000 | Tuesday   | Pirates | 67 | Clear  | Day   | NO | NO | NO  | NO |\n",
       "| APR | 11 | 29729 | Wednesday | Pirates | 58 | Cloudy | Night | NO | NO | NO  | NO |\n",
       "| APR | 12 | 28328 | Thursday  | Pirates | 57 | Cloudy | Night | NO | NO | NO  | NO |\n",
       "| APR | 13 | 31601 | Friday    | Padres  | 54 | Cloudy | Night | NO | NO | YES | NO |\n",
       "| APR | 14 | 46549 | Saturday  | Padres  | 57 | Cloudy | Night | NO | NO | NO  | NO |\n",
       "| APR | 15 | 38359 | Sunday    | Padres  | 65 | Clear  | Day   | NO | NO | NO  | NO |\n",
       "\n"
      ],
      "text/plain": [
       "  month day attend day_of_week opponent temp skies  day_night cap shirt\n",
       "1 APR   10  56000  Tuesday     Pirates  67   Clear  Day       NO  NO   \n",
       "2 APR   11  29729  Wednesday   Pirates  58   Cloudy Night     NO  NO   \n",
       "3 APR   12  28328  Thursday    Pirates  57   Cloudy Night     NO  NO   \n",
       "4 APR   13  31601  Friday      Padres   54   Cloudy Night     NO  NO   \n",
       "5 APR   14  46549  Saturday    Padres   57   Cloudy Night     NO  NO   \n",
       "6 APR   15  38359  Sunday      Padres   65   Clear  Day       NO  NO   \n",
       "  fireworks bobblehead\n",
       "1 NO        NO        \n",
       "2 NO        NO        \n",
       "3 NO        NO        \n",
       "4 YES       NO        \n",
       "5 NO        NO        \n",
       "6 NO        NO        "
      ]
     },
     "metadata": {},
     "output_type": "display_data"
    }
   ],
   "source": [
    "# check data sample\n",
    "head(dodgers_raw)"
   ]
  },
  {
   "cell_type": "code",
   "execution_count": 20,
   "metadata": {},
   "outputs": [],
   "source": [
    "# we need to order the day of the week to plot meaningfully\n",
    "dodgers_raw$day_of_week <- factor(dodgers_raw$day_of_week, levels = c(\"Monday\", \"Tuesday\", \"Wednesday\", \"Thursday\", \"Friday\", \"Saturday\", \"Sunday\"))\n",
    "\n",
    "# we need to order the months to plot meaningfully\n",
    "dodgers_raw$month <- factor(dodgers_raw$month, levels = c(\"APR\", \"MAY\", \"JUN\", \"JUL\", \"AUG\", \"SEP\", \"OCT\"))"
   ]
  },
  {
   "cell_type": "markdown",
   "metadata": {},
   "source": [
    "Check categorical columns"
   ]
  },
  {
   "cell_type": "code",
   "execution_count": 21,
   "metadata": {},
   "outputs": [
    {
     "data": {
      "text/plain": [
       "dodgers_raw \n",
       "\n",
       " 12  Variables      81  Observations\n",
       "--------------------------------------------------------------------------------\n",
       "month \n",
       "       n  missing distinct \n",
       "      81        0        7 \n",
       "                                                    \n",
       "Value        APR   MAY   JUN   JUL   AUG   SEP   OCT\n",
       "Frequency     12    18     9    12    15    12     3\n",
       "Proportion 0.148 0.222 0.111 0.148 0.185 0.148 0.037\n",
       "--------------------------------------------------------------------------------\n",
       "day \n",
       "       n  missing distinct     Info     Mean      Gmd      .05      .10 \n",
       "      81        0       31    0.998    16.14     11.1        2        3 \n",
       "     .25      .50      .75      .90      .95 \n",
       "       8       15       25       29       30 \n",
       "\n",
       "lowest :  1  2  3  4  5, highest: 27 28 29 30 31\n",
       "--------------------------------------------------------------------------------\n",
       "attend \n",
       "       n  missing distinct     Info     Mean      Gmd      .05      .10 \n",
       "      81        0       80        1    41040     9525    26773    31607 \n",
       "     .25      .50      .75      .90      .95 \n",
       "   34493    40284    46588    53570    55024 \n",
       "\n",
       "lowest : 24312 25509 26345 26376 26773, highest: 54621 55024 55279 55359 56000\n",
       "--------------------------------------------------------------------------------\n",
       "day_of_week \n",
       "       n  missing distinct \n",
       "      81        0        7 \n",
       "                                                                      \n",
       "Value         Monday   Tuesday Wednesday  Thursday    Friday  Saturday\n",
       "Frequency         12        13        12         5        13        13\n",
       "Proportion     0.148     0.160     0.148     0.062     0.160     0.160\n",
       "                    \n",
       "Value         Sunday\n",
       "Frequency         13\n",
       "Proportion     0.160\n",
       "--------------------------------------------------------------------------------\n",
       "opponent \n",
       "       n  missing distinct \n",
       "      81        0       17 \n",
       "\n",
       "Angels (3, 0.037), Astros (3, 0.037), Braves (3, 0.037), Brewers (4, 0.049),\n",
       "Cardinals (7, 0.086), Cubs (3, 0.037), Giants (9, 0.111), Marlins (3, 0.037),\n",
       "Mets (4, 0.049), Nationals (3, 0.037), Padres (9, 0.111), Phillies (3, 0.037),\n",
       "Pirates (3, 0.037), Reds (3, 0.037), Rockies (9, 0.111), Snakes (9, 0.111),\n",
       "White Sox (3, 0.037)\n",
       "--------------------------------------------------------------------------------\n",
       "temp \n",
       "       n  missing distinct     Info     Mean      Gmd      .05      .10 \n",
       "      81        0       32    0.997    73.15    9.391       59       64 \n",
       "     .25      .50      .75      .90      .95 \n",
       "      67       73       79       84       86 \n",
       "\n",
       "lowest : 54 57 58 59 60, highest: 84 85 86 89 95\n",
       "--------------------------------------------------------------------------------\n",
       "skies \n",
       "       n  missing distinct \n",
       "      81        0        2 \n",
       "                        \n",
       "Value       Clear Cloudy\n",
       "Frequency      62     19\n",
       "Proportion  0.765  0.235\n",
       "--------------------------------------------------------------------------------\n",
       "day_night \n",
       "       n  missing distinct \n",
       "      81        0        2 \n",
       "                      \n",
       "Value        Day Night\n",
       "Frequency     15    66\n",
       "Proportion 0.185 0.815\n",
       "--------------------------------------------------------------------------------\n",
       "cap \n",
       "       n  missing distinct \n",
       "      81        0        2 \n",
       "                      \n",
       "Value         NO   YES\n",
       "Frequency     79     2\n",
       "Proportion 0.975 0.025\n",
       "--------------------------------------------------------------------------------\n",
       "shirt \n",
       "       n  missing distinct \n",
       "      81        0        2 \n",
       "                      \n",
       "Value         NO   YES\n",
       "Frequency     78     3\n",
       "Proportion 0.963 0.037\n",
       "--------------------------------------------------------------------------------\n",
       "fireworks \n",
       "       n  missing distinct \n",
       "      81        0        2 \n",
       "                      \n",
       "Value         NO   YES\n",
       "Frequency     67    14\n",
       "Proportion 0.827 0.173\n",
       "--------------------------------------------------------------------------------\n",
       "bobblehead \n",
       "       n  missing distinct \n",
       "      81        0        2 \n",
       "                      \n",
       "Value         NO   YES\n",
       "Frequency     70    11\n",
       "Proportion 0.864 0.136\n",
       "--------------------------------------------------------------------------------"
      ]
     },
     "metadata": {},
     "output_type": "display_data"
    }
   ],
   "source": [
    "# examine the data through descriptive statistics\n",
    "Hmisc::describe(dodgers_raw)"
   ]
  },
  {
   "cell_type": "markdown",
   "metadata": {},
   "source": [
    "Therefore, the observations are:\n",
    "* Promotion ranges from April to August\n",
    "* There are 4 types of promotions, e.g. Cap, Shirt, Fireworks, Bobblehead\n",
    "* Data is divided in seven days of the week\n",
    "* Highest attendence is 56000"
   ]
  },
  {
   "cell_type": "markdown",
   "metadata": {},
   "source": [
    "\n",
    "**Attendence by day**"
   ]
  },
  {
   "cell_type": "code",
   "execution_count": 27,
   "metadata": {},
   "outputs": [
    {
     "data": {
      "image/png": "[encoded data removed]",
      "text/plain": [
       "plot without title"
      ]
     },
     "metadata": {},
     "output_type": "display_data"
    }
   ],
   "source": [
    "ggplot2::ggplot(dodgers_raw, ggplot2::aes(x=day_of_week, y=attend/1000)) + \n",
    "    ggplot2::geom_boxplot(color=\"blue\", fill=\"darkblue\", alpha=0.2) +\n",
    "    ggplot2::labs(title='Attendance by Day of Week',\n",
    "                 x='Day of Week',\n",
    "                 y='Attendance\\n(in Thousands)') +\n",
    "    ggplot2::theme_bw() +\n",
    "    ggplot2::theme(plot.title = ggplot2::element_text(hjust = 0.5))"
   ]
  },
  {
   "cell_type": "markdown",
   "metadata": {},
   "source": [
    "Looks like **Tuesday's** are the highest attendence days since the median is the highest and **Monday's** are the lowest attendence days. The first assumption is, promotions morstly happened on Tuesdays.\n",
    "\n",
    "**Attendence by Month**"
   ]
  },
  {
   "cell_type": "code",
   "execution_count": 28,
   "metadata": {},
   "outputs": [
    {
     "data": {
      "image/png": "[encoded data removed]",
      "text/plain": [
       "plot without title"
      ]
     },
     "metadata": {},
     "output_type": "display_data"
    }
   ],
   "source": [
    "ggplot2::ggplot(dodgers_raw, ggplot2::aes(x=month, y=attend/1000)) + \n",
    "    ggplot2::geom_boxplot(color=\"black\", fill=\"grey\", alpha=0.5) +\n",
    "    ggplot2::labs(title='Attendance by Month',\n",
    "                 x='Month',\n",
    "                 y='Attendance\\n(in Thousands)') +\n",
    "    ggplot2::theme_bw() +\n",
    "    ggplot2::theme(plot.title = ggplot2::element_text(hjust = 0.5))"
   ]
  },
  {
   "cell_type": "markdown",
   "metadata": {},
   "source": [
    "**June** seems to be the highest attendence month since the median is the highest. **October** seems to be the lowest attendence month.\n",
    "\n",
    "**Attendance by Weather**"
   ]
  },
  {
   "cell_type": "code",
   "execution_count": 34,
   "metadata": {},
   "outputs": [
    {
     "data": {
      "image/png": "[encoded data removed]",
      "text/plain": [
       "plot without title"
      ]
     },
     "metadata": {},
     "output_type": "display_data"
    }
   ],
   "source": [
    "ggplot2::ggplot(dodgers_raw, ggplot2::aes(x=temp, y=attend/1000, color=fireworks)) + \n",
    "    ggplot2::geom_point() + \n",
    "    ggplot2::facet_wrap(day_night~skies) + \n",
    "    ggplot2::theme(plot.title = ggplot2::element_text(lineheight=3, face=\"bold\", color=\"black\", size=10)) +\n",
    "    ggplot2::labs(title='Attendance By Temperature, Time and Skies',\n",
    "                  x='Temperature\\n(Degree Farenheit)',\n",
    "                  y='Attendance\\n(Thousands)')"
   ]
  },
  {
   "cell_type": "markdown",
   "metadata": {},
   "source": [
    "* In day games with clear sky, most of the attendance vary between 70&deg;F to 80&deg;F.\n",
    "* There was only one day game played under cloudy sky. Hence we do not have enough observation of that case.\n",
    "* Most games were played at night with clear sky, and it constantly attained a high attendance.\n",
    "* Games played at night under cloudy sky are distributed between crowd puller and empty house.\n",
    "\n",
    "Next I would like to see if location and reputation of the opponent teams have any impact on the overall attendance.\n",
    "\n",
    "**Attendance by opponent teams**"
   ]
  },
  {
   "cell_type": "code",
   "execution_count": 7,
   "metadata": {},
   "outputs": [
    {
     "data": {
      "image/png": "[encoded data removed]",
      "text/plain": [
       "plot without title"
      ]
     },
     "metadata": {},
     "output_type": "display_data"
    }
   ],
   "source": [
    "#Strip Plot of Attendance by opponent or visiting team\n",
    "ggplot2::ggplot(dodgers_raw, ggplot2::aes(x=attend/1000, y=opponent, color=day_night)) + \n",
    "        ggplot2::geom_point() + \n",
    "        ggplot2::labs(title = 'Attendance By Opponent',                      \n",
    "                      x='Attendance\\n(Thousands)',\n",
    "                      y='Opponent (Visiting Team)') +\n",
    "        ggplot2::theme(plot.title = ggplot2::element_text(lineheight=3, face=\"bold\", color=\"black\", size=10))"
   ]
  },
  {
   "cell_type": "markdown",
   "metadata": {},
   "source": [
    "Games where the opponents were from bigger cities or larger metro areas, e.g. Angels from Los Angeles, New York New York, Chicago Cubs etc., has a consistently higher attendance.\n",
    "\n",
    "\n",
    "\n",
    "To measure the impact of a promotion on attendance, I am building a Linear Model. The intention is to predict the attendance using Month, Day of Week and promotion (Bobblehead) indicator."
   ]
  },
  {
   "cell_type": "markdown",
   "metadata": {},
   "source": [
    "Discuss model significance"
   ]
  },
  {
   "cell_type": "code",
   "execution_count": 3,
   "metadata": {},
   "outputs": [
    {
     "name": "stdout",
     "output_type": "stream",
     "text": [
      "[1] 0.453\n"
     ]
    }
   ],
   "source": [
    "# since we are trying to check effect of month, day of week and bobblehead on attendance, defnie a model accordingly\n",
    "dodger.model <- {attend ~ month + day_of_week + bobblehead}\n",
    "\n",
    "# reseed for repeatability\n",
    "set.seed(1234)\n",
    "traintest_key <- c(rep(1, trunc((2/3)*nrow(dodgers_raw))), rep(2, trunc((1/3)*nrow(dodgers_raw))))\n",
    "\n",
    "# create a variable in main data to separate test and train later\n",
    "dodgers_raw$train_test <- sample(traintest_key)\n",
    "\n",
    "# split test train withing dataset and assign label\n",
    "dodgers_raw$train_test <- factor(dodgers_raw$train_test, levels = c(1, 2), labels = c(\"TRAIN\", \"TEST\"))\n",
    "\n",
    "\n",
    "train <- subset(dodgers_raw, train_test == \"TRAIN\")\n",
    "test <- subset(dodgers_raw, train_test == \"TEST\")\n",
    "\n",
    "# model fit on training data\n",
    "model.fit.train <- lm(dodger.model, data = train)\n",
    "\n",
    "# predict from Training Set\n",
    "train$attend_pred <- predict(model.fit.train)\n",
    "\n",
    "# model evaluation on test set\n",
    "test$attend_pred <- predict(model.fit.train, newdata = test)\n",
    "\n",
    "# calculate accuracy on test data\n",
    "accuracy <- round(cor(test$attend, test$attend_pred)^2, digits=3)\n",
    "\n",
    "# compute the proportion of response variance accounted for when predicting Test Data\n",
    "print(accuracy)"
   ]
  },
  {
   "cell_type": "code",
   "execution_count": 9,
   "metadata": {},
   "outputs": [
    {
     "name": "stdout",
     "output_type": "stream",
     "text": [
      "\n",
      "Call:\n",
      "lm(formula = dodger.model, data = dodgers_raw)\n",
      "\n",
      "Residuals:\n",
      "     Min       1Q   Median       3Q      Max \n",
      "-10786.5  -3628.1   -516.1   2230.2  14351.0 \n",
      "\n",
      "Coefficients:\n",
      "                     Estimate Std. Error t value Pr(>|t|)    \n",
      "(Intercept)          38792.98    2364.68  16.405  < 2e-16 ***\n",
      "monthAUG              2377.92    2402.91   0.990   0.3259    \n",
      "monthJUL              2849.83    2578.60   1.105   0.2730    \n",
      "monthJUN              7163.23    2732.72   2.621   0.0108 *  \n",
      "monthMAY             -2385.62    2291.22  -1.041   0.3015    \n",
      "monthOCT              -662.67    4046.45  -0.164   0.8704    \n",
      "monthSEP                29.03    2521.25   0.012   0.9908    \n",
      "day_of_weekMonday    -4883.82    2504.65  -1.950   0.0554 .  \n",
      "day_of_weekSaturday   1488.24    2442.68   0.609   0.5444    \n",
      "day_of_weekSunday     1840.18    2426.79   0.758   0.4509    \n",
      "day_of_weekThursday  -4108.45    3381.22  -1.215   0.2286    \n",
      "day_of_weekTuesday    3027.68    2686.43   1.127   0.2638    \n",
      "day_of_weekWednesday -2423.80    2485.46  -0.975   0.3330    \n",
      "bobbleheadYES        10714.90    2419.52   4.429 3.59e-05 ***\n",
      "---\n",
      "Signif. codes:  0 '***' 0.001 '**' 0.01 '*' 0.05 '.' 0.1 ' ' 1\n",
      "\n",
      "Residual standard error: 6120 on 67 degrees of freedom\n",
      "Multiple R-squared:  0.5444,\tAdjusted R-squared:  0.456 \n",
      "F-statistic: 6.158 on 13 and 67 DF,  p-value: 2.083e-07\n",
      "\n"
     ]
    }
   ],
   "source": [
    "# estimate attendance based on full dataset\n",
    "dodgers_predicted <- train %>% dplyr::bind_rows(test)\n",
    "model.fit.all <- lm(dodger.model, data = dodgers_raw)\n",
    "\n",
    "# evaluate model performance\n",
    "print(summary(model.fit.all))"
   ]
  },
  {
   "cell_type": "markdown",
   "metadata": {},
   "source": [
    "My interpretation from the summary:\n",
    "\n",
    "* **t-value**: The coefficient `t-value` is a measure of how many standard deviations our coefficient estimate is far away from 0. In this case, overall t-values are not that far away from 0, meaning, a relationship exists between te variables.\n",
    "\n",
    "* **p-value**: The `p-value` is significantly low, meaning there is very less probability that the result of the statistical test is by chance. In other words, true relationship exists between the variables.\n",
    "\n",
    "* **R-Squared**: The `R-squared` value is 0.544, which means 54.4% of the vartiance found in the response variable can be explained by the predictor variable.\n",
    "\n",
    "To find out the effect of the promotion on attendance, I would like to extract the below number"
   ]
  },
  {
   "cell_type": "code",
   "execution_count": 13,
   "metadata": {},
   "outputs": [
    {
     "name": "stdout",
     "output_type": "stream",
     "text": [
      "bobbleheadYES \n",
      "        10715 \n"
     ]
    }
   ],
   "source": [
    "print(round(model.fit.all$coefficients[length(model.fit.all$coefficients)], digits = 0))"
   ]
  },
  {
   "cell_type": "markdown",
   "metadata": {},
   "source": [
    "#### Conclusion\n",
    "\n",
    "Looking at all the metrices, we can predict and quantify the effect of bobblehead promotion on the attendance of a match. As far as marketing is concerned, attaching financial criteria with the findings can provide the Dodgers revenue and effect of promotion on that.\n",
    "\n",
    "#### Reference\n",
    "\n",
    "www.rpubs.com"
   ]
  },
  {
   "cell_type": "code",
   "execution_count": null,
   "metadata": {},
   "outputs": [],
   "source": []
  }
 ],
 "metadata": {
  "kernelspec": {
   "display_name": "Python 3 (ipykernel)",
   "language": "python",
   "name": "python3"
  },
  "language_info": {
   "codemirror_mode": {
    "name": "ipython",
    "version": 3
   },
   "file_extension": ".py",
   "mimetype": "text/x-python",
   "name": "python",
   "nbconvert_exporter": "python",
   "pygments_lexer": "ipython3",
   "version": "3.11.5"
  }
 },
 "nbformat": 4,
 "nbformat_minor": 2
}
